{
 "cells": [
  {
   "cell_type": "code",
   "execution_count": 6,
   "id": "45c7408d-9d6a-4180-816c-c00e33a90fb8",
   "metadata": {},
   "outputs": [
    {
     "data": {
      "text/plain": [
       "140660517023360"
      ]
     },
     "execution_count": 6,
     "metadata": {},
     "output_type": "execute_result"
    }
   ],
   "source": [
    "x = [1,2,3,4,5,6,7,8,9]\n",
    "id(x)"
   ]
  },
  {
   "cell_type": "code",
   "execution_count": 7,
   "id": "37a2e5c6-bc62-452c-85b0-b898b58a5147",
   "metadata": {},
   "outputs": [
    {
     "data": {
      "text/plain": [
       "136"
      ]
     },
     "execution_count": 7,
     "metadata": {},
     "output_type": "execute_result"
    }
   ],
   "source": [
    "from sys import getsizeof as size\n",
    "size(x)"
   ]
  },
  {
   "cell_type": "code",
   "execution_count": 8,
   "id": "3caadda1-68e6-4cb1-85de-d73c1d2c2f6d",
   "metadata": {},
   "outputs": [
    {
     "data": {
      "text/plain": [
       "200"
      ]
     },
     "execution_count": 8,
     "metadata": {},
     "output_type": "execute_result"
    }
   ],
   "source": [
    "136 + (8 * 8)"
   ]
  },
  {
   "cell_type": "code",
   "execution_count": 33,
   "id": "d43f3056-7971-4d37-bdab-bbca98c94763",
   "metadata": {},
   "outputs": [
    {
     "name": "stdout",
     "output_type": "stream",
     "text": [
      "184 int64 1\n",
      "136 int8 2\n"
     ]
    }
   ],
   "source": [
    "import numpy as np\n",
    "x = np.array([1,2,3,4,5,6,7,8,9],dtype=np.int64,order=\"F\") # fortran ordering\n",
    "y = np.array([[1,2,3,4],[5,6,7,8]],dtype='i1')\n",
    "print(size(x),x.dtype,x.ndim)\n",
    "print(size(y),y.dtype,y.ndim)\n"
   ]
  },
  {
   "cell_type": "code",
   "execution_count": 10,
   "id": "6ccd3699-97d5-494b-9432-4542a7e8cc32",
   "metadata": {},
   "outputs": [
    {
     "data": {
      "text/plain": [
       "numpy.int8"
      ]
     },
     "execution_count": 10,
     "metadata": {},
     "output_type": "execute_result"
    }
   ],
   "source": [
    "np.int8 #i1\n",
    "np.int16 #i2\n",
    "np.int32 #i4\n",
    "np.int64 #i8\n",
    "\n",
    "np.float16 #f2\n",
    "np.float32 #f4\n",
    "np.float64 #f8\n",
    "\n",
    "np.bool # ?\n",
    "np.object # 0\n"
   ]
  }
 ],
 "metadata": {
  "kernelspec": {
   "display_name": "Python 3 (ipykernel)",
   "language": "python",
   "name": "python3"
  },
  "language_info": {
   "codemirror_mode": {
    "name": "ipython",
    "version": 3
   },
   "file_extension": ".py",
   "mimetype": "text/x-python",
   "name": "python",
   "nbconvert_exporter": "python",
   "pygments_lexer": "ipython3",
   "version": "3.11.6"
  }
 },
 "nbformat": 4,
 "nbformat_minor": 5
}
