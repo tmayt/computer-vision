{
 "cells": [
  {
   "cell_type": "code",
   "execution_count": 2,
   "id": "45c7408d-9d6a-4180-816c-c00e33a90fb8",
   "metadata": {},
   "outputs": [
    {
     "data": {
      "text/plain": [
       "140292494417600"
      ]
     },
     "execution_count": 2,
     "metadata": {},
     "output_type": "execute_result"
    }
   ],
   "source": [
    "x = [1,2,3,4,5,6,7,8,9]\n",
    "id(x)"
   ]
  },
  {
   "cell_type": "code",
   "execution_count": 3,
   "id": "37a2e5c6-bc62-452c-85b0-b898b58a5147",
   "metadata": {},
   "outputs": [
    {
     "data": {
      "text/plain": [
       "136"
      ]
     },
     "execution_count": 3,
     "metadata": {},
     "output_type": "execute_result"
    }
   ],
   "source": [
    "from sys import getsizeof as size\n",
    "size(x)"
   ]
  },
  {
   "cell_type": "code",
   "execution_count": 4,
   "id": "3caadda1-68e6-4cb1-85de-d73c1d2c2f6d",
   "metadata": {},
   "outputs": [
    {
     "data": {
      "text/plain": [
       "200"
      ]
     },
     "execution_count": 4,
     "metadata": {},
     "output_type": "execute_result"
    }
   ],
   "source": [
    "136 + (8 * 8)"
   ]
  },
  {
   "cell_type": "code",
   "execution_count": 5,
   "id": "d43f3056-7971-4d37-bdab-bbca98c94763",
   "metadata": {},
   "outputs": [
    {
     "name": "stdout",
     "output_type": "stream",
     "text": [
      "184 int64 1\n",
      "136 int8 2\n"
     ]
    }
   ],
   "source": [
    "# import numpy as np\n",
    "x = np.array([1,2,3,4,5,6,7,8,9],dtype=np.int64,order=\"F\") # fortran ordering\n",
    "y = np.array([[1,2,3,4],[5,6,7,8]],dtype='i1')\n",
    "print(size(x),x.dtype,x.ndim)\n",
    "print(size(y),y.dtype,y.ndim)\n"
   ]
  },
  {
   "cell_type": "markdown",
   "id": "8eb54729-4734-48b4-b5eb-b3fdd1a39905",
   "metadata": {},
   "source": [
    "np.int8 #i1\n",
    "np.int16 #i2\n",
    "np.int32 #i4\n",
    "np.int64 #i8\n",
    "\n",
    "np.float16 #f2\n",
    "np.float32 #f4\n",
    "np.float64 #f8\n",
    "\n",
    "np.boolean # ?\n",
    "np.object # 0\n"
   ]
  },
  {
   "cell_type": "code",
   "execution_count": 12,
   "id": "49b7db19-c260-4088-90c0-c8dc421a61c1",
   "metadata": {},
   "outputs": [],
   "source": [
    "x = np.zeros((100,200,300))"
   ]
  },
  {
   "cell_type": "code",
   "execution_count": 13,
   "id": "4fb4bd3f-321c-4928-8b55-b122e637699e",
   "metadata": {},
   "outputs": [
    {
     "data": {
      "text/plain": [
       "3"
      ]
     },
     "execution_count": 13,
     "metadata": {},
     "output_type": "execute_result"
    }
   ],
   "source": [
    "x.ndim"
   ]
  },
  {
   "cell_type": "code",
   "execution_count": 14,
   "id": "994f84f7-b439-414d-baa5-bf923d1f3bad",
   "metadata": {},
   "outputs": [
    {
     "data": {
      "text/plain": [
       "(100, 200, 300)"
      ]
     },
     "execution_count": 14,
     "metadata": {},
     "output_type": "execute_result"
    }
   ],
   "source": [
    "x.shape"
   ]
  },
  {
   "cell_type": "code",
   "execution_count": 15,
   "id": "88657cec-71fe-46ed-96b4-0a6e586be109",
   "metadata": {},
   "outputs": [],
   "source": [
    "fream = np.zeros((600,800,3))"
   ]
  },
  {
   "cell_type": "code",
   "execution_count": 16,
   "id": "80dae6ae-cc89-41a0-bc35-5d26fc3cc45e",
   "metadata": {},
   "outputs": [
    {
     "data": {
      "text/plain": [
       "array([[[0., 0., 0.],\n",
       "        [0., 0., 0.],\n",
       "        [0., 0., 0.],\n",
       "        ...,\n",
       "        [0., 0., 0.],\n",
       "        [0., 0., 0.],\n",
       "        [0., 0., 0.]],\n",
       "\n",
       "       [[0., 0., 0.],\n",
       "        [0., 0., 0.],\n",
       "        [0., 0., 0.],\n",
       "        ...,\n",
       "        [0., 0., 0.],\n",
       "        [0., 0., 0.],\n",
       "        [0., 0., 0.]],\n",
       "\n",
       "       [[0., 0., 0.],\n",
       "        [0., 0., 0.],\n",
       "        [0., 0., 0.],\n",
       "        ...,\n",
       "        [0., 0., 0.],\n",
       "        [0., 0., 0.],\n",
       "        [0., 0., 0.]],\n",
       "\n",
       "       ...,\n",
       "\n",
       "       [[0., 0., 0.],\n",
       "        [0., 0., 0.],\n",
       "        [0., 0., 0.],\n",
       "        ...,\n",
       "        [0., 0., 0.],\n",
       "        [0., 0., 0.],\n",
       "        [0., 0., 0.]],\n",
       "\n",
       "       [[0., 0., 0.],\n",
       "        [0., 0., 0.],\n",
       "        [0., 0., 0.],\n",
       "        ...,\n",
       "        [0., 0., 0.],\n",
       "        [0., 0., 0.],\n",
       "        [0., 0., 0.]],\n",
       "\n",
       "       [[0., 0., 0.],\n",
       "        [0., 0., 0.],\n",
       "        [0., 0., 0.],\n",
       "        ...,\n",
       "        [0., 0., 0.],\n",
       "        [0., 0., 0.],\n",
       "        [0., 0., 0.]]])"
      ]
     },
     "execution_count": 16,
     "metadata": {},
     "output_type": "execute_result"
    }
   ],
   "source": [
    "fream"
   ]
  },
  {
   "cell_type": "code",
   "execution_count": 18,
   "id": "f7260d49-bfff-4330-b794-86c06245af87",
   "metadata": {},
   "outputs": [
    {
     "data": {
      "text/plain": [
       "array([[0, 0, 0, 0, 0, 0, 0],\n",
       "       [0, 0, 0, 0, 0, 0, 0]])"
      ]
     },
     "execution_count": 18,
     "metadata": {},
     "output_type": "execute_result"
    }
   ],
   "source": [
    "np.zeros_like([[1,2,3,4,5,6,7],[1,2,3,4,5,6,7]])"
   ]
  },
  {
   "cell_type": "code",
   "execution_count": null,
   "id": "53462fab-1708-4548-8fdb-d3f4d0aba6eb",
   "metadata": {},
   "outputs": [],
   "source": []
  }
 ],
 "metadata": {
  "kernelspec": {
   "display_name": "Python 3 (ipykernel)",
   "language": "python",
   "name": "python3"
  },
  "language_info": {
   "codemirror_mode": {
    "name": "ipython",
    "version": 3
   },
   "file_extension": ".py",
   "mimetype": "text/x-python",
   "name": "python",
   "nbconvert_exporter": "python",
   "pygments_lexer": "ipython3",
   "version": "3.11.6"
  }
 },
 "nbformat": 4,
 "nbformat_minor": 5
}
